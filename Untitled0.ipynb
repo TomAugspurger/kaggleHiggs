{
 "metadata": {
  "name": "",
  "signature": "sha256:c11b88f53d746828c0bc135cec26d91df6e7a62ecd7c825db2ae82ec8a708e04"
 },
 "nbformat": 3,
 "nbformat_minor": 0,
 "worksheets": [
  {
   "cells": [
    {
     "cell_type": "code",
     "collapsed": false,
     "input": [
      "%matplotlib inline\n",
      "\n",
      "import numpy as np\n",
      "import pandas as pd\n",
      "import seaborn as sns\n",
      "import matplotlib.pyplot as plt\n",
      "\n",
      "import sklearn.cross_validation as cv"
     ],
     "language": "python",
     "metadata": {},
     "outputs": [],
     "prompt_number": 8
    },
    {
     "cell_type": "code",
     "collapsed": false,
     "input": [
      "df = pd.read_csv(\"training.csv\", index_col=0, na_values=[-999.])\n",
      "weights = df['Weight']\n",
      "labels = df['Label']\n",
      "df = df.drop(['Weight', 'Label'], axis=1)\n",
      "df.head()"
     ],
     "language": "python",
     "metadata": {},
     "outputs": [
      {
       "html": [
        "<div style=\"max-height:1000px;max-width:1500px;overflow:auto;\">\n",
        "<table border=\"1\" class=\"dataframe\">\n",
        "  <thead>\n",
        "    <tr style=\"text-align: right;\">\n",
        "      <th></th>\n",
        "      <th>DER_mass_MMC</th>\n",
        "      <th>DER_mass_transverse_met_lep</th>\n",
        "      <th>DER_mass_vis</th>\n",
        "      <th>DER_pt_h</th>\n",
        "      <th>DER_deltaeta_jet_jet</th>\n",
        "      <th>DER_mass_jet_jet</th>\n",
        "      <th>DER_prodeta_jet_jet</th>\n",
        "      <th>DER_deltar_tau_lep</th>\n",
        "      <th>DER_pt_tot</th>\n",
        "      <th>DER_sum_pt</th>\n",
        "      <th>DER_pt_ratio_lep_tau</th>\n",
        "      <th>DER_met_phi_centrality</th>\n",
        "      <th>DER_lep_eta_centrality</th>\n",
        "      <th>PRI_tau_pt</th>\n",
        "      <th>PRI_tau_eta</th>\n",
        "      <th>PRI_tau_phi</th>\n",
        "      <th>PRI_lep_pt</th>\n",
        "      <th>PRI_lep_eta</th>\n",
        "      <th>PRI_lep_phi</th>\n",
        "      <th>PRI_met</th>\n",
        "      <th></th>\n",
        "    </tr>\n",
        "    <tr>\n",
        "      <th>EventId</th>\n",
        "      <th></th>\n",
        "      <th></th>\n",
        "      <th></th>\n",
        "      <th></th>\n",
        "      <th></th>\n",
        "      <th></th>\n",
        "      <th></th>\n",
        "      <th></th>\n",
        "      <th></th>\n",
        "      <th></th>\n",
        "      <th></th>\n",
        "      <th></th>\n",
        "      <th></th>\n",
        "      <th></th>\n",
        "      <th></th>\n",
        "      <th></th>\n",
        "      <th></th>\n",
        "      <th></th>\n",
        "      <th></th>\n",
        "      <th></th>\n",
        "    </tr>\n",
        "  </thead>\n",
        "  <tbody>\n",
        "    <tr>\n",
        "      <th>100000</th>\n",
        "      <td> 138.470</td>\n",
        "      <td>  51.655</td>\n",
        "      <td>  97.827</td>\n",
        "      <td> 27.980</td>\n",
        "      <td> 0.91</td>\n",
        "      <td> 124.711</td>\n",
        "      <td> 2.666</td>\n",
        "      <td> 3.064</td>\n",
        "      <td> 41.928</td>\n",
        "      <td> 197.760</td>\n",
        "      <td> 1.582</td>\n",
        "      <td> 1.396</td>\n",
        "      <td> 0.2</td>\n",
        "      <td> 32.638</td>\n",
        "      <td> 1.017</td>\n",
        "      <td> 0.381</td>\n",
        "      <td>  51.626</td>\n",
        "      <td> 2.273</td>\n",
        "      <td>-2.414</td>\n",
        "      <td> 16.824</td>\n",
        "      <td>...</td>\n",
        "    </tr>\n",
        "    <tr>\n",
        "      <th>100001</th>\n",
        "      <td> 160.937</td>\n",
        "      <td>  68.768</td>\n",
        "      <td> 103.235</td>\n",
        "      <td> 48.146</td>\n",
        "      <td>  NaN</td>\n",
        "      <td>     NaN</td>\n",
        "      <td>   NaN</td>\n",
        "      <td> 3.473</td>\n",
        "      <td>  2.078</td>\n",
        "      <td> 125.157</td>\n",
        "      <td> 0.879</td>\n",
        "      <td> 1.414</td>\n",
        "      <td> NaN</td>\n",
        "      <td> 42.014</td>\n",
        "      <td> 2.039</td>\n",
        "      <td>-3.011</td>\n",
        "      <td>  36.918</td>\n",
        "      <td> 0.501</td>\n",
        "      <td> 0.103</td>\n",
        "      <td> 44.704</td>\n",
        "      <td>...</td>\n",
        "    </tr>\n",
        "    <tr>\n",
        "      <th>100002</th>\n",
        "      <td>     NaN</td>\n",
        "      <td> 162.172</td>\n",
        "      <td> 125.953</td>\n",
        "      <td> 35.635</td>\n",
        "      <td>  NaN</td>\n",
        "      <td>     NaN</td>\n",
        "      <td>   NaN</td>\n",
        "      <td> 3.148</td>\n",
        "      <td>  9.336</td>\n",
        "      <td> 197.814</td>\n",
        "      <td> 3.776</td>\n",
        "      <td> 1.414</td>\n",
        "      <td> NaN</td>\n",
        "      <td> 32.154</td>\n",
        "      <td>-0.705</td>\n",
        "      <td>-2.093</td>\n",
        "      <td> 121.409</td>\n",
        "      <td>-0.953</td>\n",
        "      <td> 1.052</td>\n",
        "      <td> 54.283</td>\n",
        "      <td>...</td>\n",
        "    </tr>\n",
        "    <tr>\n",
        "      <th>100003</th>\n",
        "      <td> 143.905</td>\n",
        "      <td>  81.417</td>\n",
        "      <td>  80.943</td>\n",
        "      <td>  0.414</td>\n",
        "      <td>  NaN</td>\n",
        "      <td>     NaN</td>\n",
        "      <td>   NaN</td>\n",
        "      <td> 3.310</td>\n",
        "      <td>  0.414</td>\n",
        "      <td>  75.968</td>\n",
        "      <td> 2.354</td>\n",
        "      <td>-1.285</td>\n",
        "      <td> NaN</td>\n",
        "      <td> 22.647</td>\n",
        "      <td>-1.655</td>\n",
        "      <td> 0.010</td>\n",
        "      <td>  53.321</td>\n",
        "      <td>-0.522</td>\n",
        "      <td>-3.100</td>\n",
        "      <td> 31.082</td>\n",
        "      <td>...</td>\n",
        "    </tr>\n",
        "    <tr>\n",
        "      <th>100004</th>\n",
        "      <td> 175.864</td>\n",
        "      <td>  16.915</td>\n",
        "      <td> 134.805</td>\n",
        "      <td> 16.405</td>\n",
        "      <td>  NaN</td>\n",
        "      <td>     NaN</td>\n",
        "      <td>   NaN</td>\n",
        "      <td> 3.891</td>\n",
        "      <td> 16.405</td>\n",
        "      <td>  57.983</td>\n",
        "      <td> 1.056</td>\n",
        "      <td>-1.385</td>\n",
        "      <td> NaN</td>\n",
        "      <td> 28.209</td>\n",
        "      <td>-2.197</td>\n",
        "      <td>-2.231</td>\n",
        "      <td>  29.774</td>\n",
        "      <td> 0.798</td>\n",
        "      <td> 1.569</td>\n",
        "      <td>  2.723</td>\n",
        "      <td>...</td>\n",
        "    </tr>\n",
        "  </tbody>\n",
        "</table>\n",
        "<p>5 rows \u00d7 30 columns</p>\n",
        "</div>"
       ],
       "metadata": {},
       "output_type": "pyout",
       "prompt_number": 51,
       "text": [
        "         DER_mass_MMC  DER_mass_transverse_met_lep  DER_mass_vis  DER_pt_h  \\\n",
        "EventId                                                                      \n",
        "100000        138.470                       51.655        97.827    27.980   \n",
        "100001        160.937                       68.768       103.235    48.146   \n",
        "100002            NaN                      162.172       125.953    35.635   \n",
        "100003        143.905                       81.417        80.943     0.414   \n",
        "100004        175.864                       16.915       134.805    16.405   \n",
        "\n",
        "         DER_deltaeta_jet_jet  DER_mass_jet_jet  DER_prodeta_jet_jet  \\\n",
        "EventId                                                                \n",
        "100000                   0.91           124.711                2.666   \n",
        "100001                    NaN               NaN                  NaN   \n",
        "100002                    NaN               NaN                  NaN   \n",
        "100003                    NaN               NaN                  NaN   \n",
        "100004                    NaN               NaN                  NaN   \n",
        "\n",
        "         DER_deltar_tau_lep  DER_pt_tot  DER_sum_pt  DER_pt_ratio_lep_tau  \\\n",
        "EventId                                                                     \n",
        "100000                3.064      41.928     197.760                 1.582   \n",
        "100001                3.473       2.078     125.157                 0.879   \n",
        "100002                3.148       9.336     197.814                 3.776   \n",
        "100003                3.310       0.414      75.968                 2.354   \n",
        "100004                3.891      16.405      57.983                 1.056   \n",
        "\n",
        "         DER_met_phi_centrality  DER_lep_eta_centrality  PRI_tau_pt  \\\n",
        "EventId                                                               \n",
        "100000                    1.396                     0.2      32.638   \n",
        "100001                    1.414                     NaN      42.014   \n",
        "100002                    1.414                     NaN      32.154   \n",
        "100003                   -1.285                     NaN      22.647   \n",
        "100004                   -1.385                     NaN      28.209   \n",
        "\n",
        "         PRI_tau_eta  PRI_tau_phi  PRI_lep_pt  PRI_lep_eta  PRI_lep_phi  \\\n",
        "EventId                                                                   \n",
        "100000         1.017        0.381      51.626        2.273       -2.414   \n",
        "100001         2.039       -3.011      36.918        0.501        0.103   \n",
        "100002        -0.705       -2.093     121.409       -0.953        1.052   \n",
        "100003        -1.655        0.010      53.321       -0.522       -3.100   \n",
        "100004        -2.197       -2.231      29.774        0.798        1.569   \n",
        "\n",
        "         PRI_met      \n",
        "EventId               \n",
        "100000    16.824 ...  \n",
        "100001    44.704 ...  \n",
        "100002    54.283 ...  \n",
        "100003    31.082 ...  \n",
        "100004     2.723 ...  \n",
        "\n",
        "[5 rows x 30 columns]"
       ]
      }
     ],
     "prompt_number": 51
    },
    {
     "cell_type": "code",
     "collapsed": false,
     "input": [
      "(n_points, n_features) = df.shape"
     ],
     "language": "python",
     "metadata": {},
     "outputs": [],
     "prompt_number": 52
    },
    {
     "cell_type": "code",
     "collapsed": false,
     "input": [
      "df = df + np.random.normal(0, .001, df.shape)"
     ],
     "language": "python",
     "metadata": {},
     "outputs": [],
     "prompt_number": 53
    },
    {
     "cell_type": "code",
     "collapsed": false,
     "input": [
      "sSelector = labels == 's'\n",
      "bSelector = ~sSelector"
     ],
     "language": "python",
     "metadata": {},
     "outputs": [],
     "prompt_number": 54
    },
    {
     "cell_type": "code",
     "collapsed": false,
     "input": [
      "weights\n",
      "wsum = weights.sum()\n",
      "ss_wsum = sSelector.sum()\n",
      "bs_wsum = bSelector.sum()"
     ],
     "language": "python",
     "metadata": {},
     "outputs": [],
     "prompt_number": 55
    },
    {
     "cell_type": "code",
     "collapsed": false,
     "input": [
      "np.random.seed(42)\n",
      "idx = np.asarray(df.index)\n",
      "np.random.shuffle(idx)\n",
      "idx"
     ],
     "language": "python",
     "metadata": {},
     "outputs": [
      {
       "metadata": {},
       "output_type": "pyout",
       "prompt_number": 56,
       "text": [
        "array([138683, 164939, 103954, ..., 231932, 246867, 221958])"
       ]
      }
     ],
     "prompt_number": 56
    },
    {
     "cell_type": "code",
     "collapsed": false,
     "input": [
      "train_idx, test_idx = cv.train_test_split(df.index, train_size=.9)\n",
      "train, test = df.loc[train_idx], df.loc[test_idx]\n",
      "\n",
      "s_train, s_test = sSelector.loc[train_idx], bSelector.loc[test_idx]\n",
      "b_train, b_test = bSelector.loc[train_idx], bSelector.loc[test_idx]\n",
      "\n",
      "w_train, w_test = weights.loc[train_idx], weights.loc[test_idx]\n",
      "ss_w_train = w_train.loc[s_train].sum()\n",
      "bs_w_train = w_train.loc[b_train].sum()"
     ],
     "language": "python",
     "metadata": {},
     "outputs": [],
     "prompt_number": 57
    },
    {
     "cell_type": "code",
     "collapsed": false,
     "input": [
      "w_balanced_train = (.5 * (s_train * w_train / ss_w_train) +\n",
      "                    .5 * (b_train * w_train / bs_w_train))\n",
      "w_balanced_train.sum()"
     ],
     "language": "python",
     "metadata": {},
     "outputs": [
      {
       "metadata": {},
       "output_type": "pyout",
       "prompt_number": 58,
       "text": [
        "0.99999999999987665"
       ]
      }
     ],
     "prompt_number": 58
    },
    {
     "cell_type": "code",
     "collapsed": false,
     "input": [
      "n_bins = 10"
     ],
     "language": "python",
     "metadata": {},
     "outputs": [],
     "prompt_number": 59
    },
    {
     "cell_type": "code",
     "collapsed": false,
     "input": [
      "log_Ps = np.empty([n_features, n_bins])  # convert to frame\n",
      "bin_max = np.empty([n_features, n_bins])\n",
      "bin_idx = np.array(range(0, len(train)+1, len(train)//n_bins))"
     ],
     "language": "python",
     "metadata": {},
     "outputs": [],
     "prompt_number": 60
    },
    {
     "cell_type": "code",
     "collapsed": false,
     "input": [
      "train[train.columns[0]].hist()"
     ],
     "language": "python",
     "metadata": {},
     "outputs": [
      {
       "metadata": {},
       "output_type": "pyout",
       "prompt_number": 72,
       "text": [
        "<matplotlib.axes._subplots.AxesSubplot at 0x105bb23d0>"
       ]
      },
      {
       "metadata": {},
       "output_type": "display_data",
       "png": "[encoded data removed]",
       "text": [
        "<matplotlib.figure.Figure at 0x105bb2ed0>"
       ]
      }
     ],
     "prompt_number": 72
    },
    {
     "cell_type": "code",
     "collapsed": false,
     "input": [
      "idxs = np.apply_along_axis(np.argsort, 0, train.values)\n",
      "\n",
      "\n",
      "for fI in range(train.shape[1]):  # columns\n",
      "    # index permutation of sorted feature column\n",
      "    idx = idxs[:, fI]\n",
      "\n",
      "    for bI in range(numBins):\n",
      "        # upper bin limits\n",
      "        binMaxs[fI, bI] = xsTrainTranspose[fI, indexes[binIndexes[bI+1]-1]]\n",
      "        # training indices of points in a bin\n",
      "        indexesInBin = indexes[binIndexes[bI]:binIndexes[bI+1]]\n",
      "        # sum of signal weights in bin\n",
      "        wS = np.sum(weightsBalancedTrain[indexesInBin]\n",
      "                    [sSelectorTrain[indexesInBin]])\n",
      "        # sum of background weights in bin\n",
      "        wB = np.sum(weightsBalancedTrain[indexesInBin]\n",
      "                    [bSelectorTrain[indexesInBin]])\n",
      "        # log probability of being a signal in the bin\n",
      "        logPs[fI, bI] = math.log(wS/(wS+wB))"
     ],
     "language": "python",
     "metadata": {},
     "outputs": [
      {
       "metadata": {},
       "output_type": "pyout",
       "prompt_number": 34,
       "text": [
        "array([[ 0.,  0.,  0., ...,  0.,  0.,  0.],\n",
        "       [ 0.,  0.,  0., ...,  0.,  0.,  0.],\n",
        "       [ 0.,  0.,  0., ...,  0.,  0.,  0.],\n",
        "       ..., \n",
        "       [ 0.,  0.,  0., ...,  0.,  0.,  0.],\n",
        "       [ 0.,  0.,  0., ...,  0.,  0.,  0.],\n",
        "       [ 0.,  0.,  0., ...,  0.,  0.,  0.]])"
       ]
      }
     ],
     "prompt_number": 34
    },
    {
     "cell_type": "code",
     "collapsed": false,
     "input": [],
     "language": "python",
     "metadata": {},
     "outputs": []
    },
    {
     "cell_type": "code",
     "collapsed": false,
     "input": [],
     "language": "python",
     "metadata": {},
     "outputs": []
    },
    {
     "cell_type": "code",
     "collapsed": false,
     "input": [],
     "language": "python",
     "metadata": {},
     "outputs": []
    }
   ],
   "metadata": {}
  }
 ]
}