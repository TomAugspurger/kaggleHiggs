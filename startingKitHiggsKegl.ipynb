{
 "metadata": {
  "name": "",
  "signature": "sha256:ec786409339bcd8be2fd5a19e997da60adceae1703f18614c6355235e66b99d9"
 },
 "nbformat": 3,
 "nbformat_minor": 0,
 "worksheets": [
  {
   "cells": [
    {
     "cell_type": "heading",
     "level": 1,
     "metadata": {},
     "source": [
      "Starting kit for the Higgs boson machine learning challenge"
     ]
    },
    {
     "cell_type": "markdown",
     "metadata": {},
     "source": [
      "This notebook contains a starting kit for the <a href=\"https://www.kaggle.com/c/higgs-boson\">\n",
      "Higgs boson machine learning challenge</a>. Download the training set (called <code>training.csv</code>) and the test set (<code>test.csv</code>), then execute cells in order."
     ]
    },
    {
     "cell_type": "code",
     "collapsed": false,
     "input": [
      "import random\n",
      "import string\n",
      "import math\n",
      "import csv\n",
      "\n",
      "import numpy as np\n",
      "import matplotlib.pyplot as plt"
     ],
     "language": "python",
     "metadata": {},
     "outputs": [],
     "prompt_number": 2
    },
    {
     "cell_type": "heading",
     "level": 2,
     "metadata": {},
     "source": [
      "Reading an formatting training data"
     ]
    },
    {
     "cell_type": "code",
     "collapsed": false,
     "input": [
      "# all = list(csv.reader(open(\"training.csv\",\"rb\"), delimiter=','))\n",
      "\n",
      "df = pd.read_csv(\"training.csv\", index_col=0)\n",
      "weights = df['Weight']\n",
      "labels = df['Label']\n",
      "df = df.drop(['Weight', 'Label'], axis=1)\n",
      "df.head()"
     ],
     "language": "python",
     "metadata": {},
     "outputs": [
      {
       "html": [
        "<div style=\"max-height:1000px;max-width:1500px;overflow:auto;\">\n",
        "<table border=\"1\" class=\"dataframe\">\n",
        "  <thead>\n",
        "    <tr style=\"text-align: right;\">\n",
        "      <th></th>\n",
        "      <th>DER_mass_MMC</th>\n",
        "      <th>DER_mass_transverse_met_lep</th>\n",
        "      <th>DER_mass_vis</th>\n",
        "      <th>DER_pt_h</th>\n",
        "      <th>DER_deltaeta_jet_jet</th>\n",
        "      <th>DER_mass_jet_jet</th>\n",
        "      <th>DER_prodeta_jet_jet</th>\n",
        "      <th>DER_deltar_tau_lep</th>\n",
        "      <th>DER_pt_tot</th>\n",
        "      <th>DER_sum_pt</th>\n",
        "      <th>DER_pt_ratio_lep_tau</th>\n",
        "      <th>DER_met_phi_centrality</th>\n",
        "      <th>DER_lep_eta_centrality</th>\n",
        "      <th>PRI_tau_pt</th>\n",
        "      <th>PRI_tau_eta</th>\n",
        "      <th>PRI_tau_phi</th>\n",
        "      <th>PRI_lep_pt</th>\n",
        "      <th>PRI_lep_eta</th>\n",
        "      <th>PRI_lep_phi</th>\n",
        "      <th>PRI_met</th>\n",
        "      <th></th>\n",
        "    </tr>\n",
        "    <tr>\n",
        "      <th>EventId</th>\n",
        "      <th></th>\n",
        "      <th></th>\n",
        "      <th></th>\n",
        "      <th></th>\n",
        "      <th></th>\n",
        "      <th></th>\n",
        "      <th></th>\n",
        "      <th></th>\n",
        "      <th></th>\n",
        "      <th></th>\n",
        "      <th></th>\n",
        "      <th></th>\n",
        "      <th></th>\n",
        "      <th></th>\n",
        "      <th></th>\n",
        "      <th></th>\n",
        "      <th></th>\n",
        "      <th></th>\n",
        "      <th></th>\n",
        "      <th></th>\n",
        "    </tr>\n",
        "  </thead>\n",
        "  <tbody>\n",
        "    <tr>\n",
        "      <th>100000</th>\n",
        "      <td> 138.470</td>\n",
        "      <td>  51.655</td>\n",
        "      <td>  97.827</td>\n",
        "      <td> 27.980</td>\n",
        "      <td>   0.91</td>\n",
        "      <td> 124.711</td>\n",
        "      <td>   2.666</td>\n",
        "      <td> 3.064</td>\n",
        "      <td> 41.928</td>\n",
        "      <td> 197.760</td>\n",
        "      <td> 1.582</td>\n",
        "      <td> 1.396</td>\n",
        "      <td>   0.2</td>\n",
        "      <td> 32.638</td>\n",
        "      <td> 1.017</td>\n",
        "      <td> 0.381</td>\n",
        "      <td>  51.626</td>\n",
        "      <td> 2.273</td>\n",
        "      <td>-2.414</td>\n",
        "      <td> 16.824</td>\n",
        "      <td>...</td>\n",
        "    </tr>\n",
        "    <tr>\n",
        "      <th>100001</th>\n",
        "      <td> 160.937</td>\n",
        "      <td>  68.768</td>\n",
        "      <td> 103.235</td>\n",
        "      <td> 48.146</td>\n",
        "      <td>-999.00</td>\n",
        "      <td>-999.000</td>\n",
        "      <td>-999.000</td>\n",
        "      <td> 3.473</td>\n",
        "      <td>  2.078</td>\n",
        "      <td> 125.157</td>\n",
        "      <td> 0.879</td>\n",
        "      <td> 1.414</td>\n",
        "      <td>-999.0</td>\n",
        "      <td> 42.014</td>\n",
        "      <td> 2.039</td>\n",
        "      <td>-3.011</td>\n",
        "      <td>  36.918</td>\n",
        "      <td> 0.501</td>\n",
        "      <td> 0.103</td>\n",
        "      <td> 44.704</td>\n",
        "      <td>...</td>\n",
        "    </tr>\n",
        "    <tr>\n",
        "      <th>100002</th>\n",
        "      <td>-999.000</td>\n",
        "      <td> 162.172</td>\n",
        "      <td> 125.953</td>\n",
        "      <td> 35.635</td>\n",
        "      <td>-999.00</td>\n",
        "      <td>-999.000</td>\n",
        "      <td>-999.000</td>\n",
        "      <td> 3.148</td>\n",
        "      <td>  9.336</td>\n",
        "      <td> 197.814</td>\n",
        "      <td> 3.776</td>\n",
        "      <td> 1.414</td>\n",
        "      <td>-999.0</td>\n",
        "      <td> 32.154</td>\n",
        "      <td>-0.705</td>\n",
        "      <td>-2.093</td>\n",
        "      <td> 121.409</td>\n",
        "      <td>-0.953</td>\n",
        "      <td> 1.052</td>\n",
        "      <td> 54.283</td>\n",
        "      <td>...</td>\n",
        "    </tr>\n",
        "    <tr>\n",
        "      <th>100003</th>\n",
        "      <td> 143.905</td>\n",
        "      <td>  81.417</td>\n",
        "      <td>  80.943</td>\n",
        "      <td>  0.414</td>\n",
        "      <td>-999.00</td>\n",
        "      <td>-999.000</td>\n",
        "      <td>-999.000</td>\n",
        "      <td> 3.310</td>\n",
        "      <td>  0.414</td>\n",
        "      <td>  75.968</td>\n",
        "      <td> 2.354</td>\n",
        "      <td>-1.285</td>\n",
        "      <td>-999.0</td>\n",
        "      <td> 22.647</td>\n",
        "      <td>-1.655</td>\n",
        "      <td> 0.010</td>\n",
        "      <td>  53.321</td>\n",
        "      <td>-0.522</td>\n",
        "      <td>-3.100</td>\n",
        "      <td> 31.082</td>\n",
        "      <td>...</td>\n",
        "    </tr>\n",
        "    <tr>\n",
        "      <th>100004</th>\n",
        "      <td> 175.864</td>\n",
        "      <td>  16.915</td>\n",
        "      <td> 134.805</td>\n",
        "      <td> 16.405</td>\n",
        "      <td>-999.00</td>\n",
        "      <td>-999.000</td>\n",
        "      <td>-999.000</td>\n",
        "      <td> 3.891</td>\n",
        "      <td> 16.405</td>\n",
        "      <td>  57.983</td>\n",
        "      <td> 1.056</td>\n",
        "      <td>-1.385</td>\n",
        "      <td>-999.0</td>\n",
        "      <td> 28.209</td>\n",
        "      <td>-2.197</td>\n",
        "      <td>-2.231</td>\n",
        "      <td>  29.774</td>\n",
        "      <td> 0.798</td>\n",
        "      <td> 1.569</td>\n",
        "      <td>  2.723</td>\n",
        "      <td>...</td>\n",
        "    </tr>\n",
        "  </tbody>\n",
        "</table>\n",
        "<p>5 rows \u00d7 30 columns</p>\n",
        "</div>"
       ],
       "metadata": {},
       "output_type": "pyout",
       "prompt_number": 36,
       "text": [
        "         DER_mass_MMC  DER_mass_transverse_met_lep  DER_mass_vis  DER_pt_h  \\\n",
        "EventId                                                                      \n",
        "100000        138.470                       51.655        97.827    27.980   \n",
        "100001        160.937                       68.768       103.235    48.146   \n",
        "100002       -999.000                      162.172       125.953    35.635   \n",
        "100003        143.905                       81.417        80.943     0.414   \n",
        "100004        175.864                       16.915       134.805    16.405   \n",
        "\n",
        "         DER_deltaeta_jet_jet  DER_mass_jet_jet  DER_prodeta_jet_jet  \\\n",
        "EventId                                                                \n",
        "100000                   0.91           124.711                2.666   \n",
        "100001                -999.00          -999.000             -999.000   \n",
        "100002                -999.00          -999.000             -999.000   \n",
        "100003                -999.00          -999.000             -999.000   \n",
        "100004                -999.00          -999.000             -999.000   \n",
        "\n",
        "         DER_deltar_tau_lep  DER_pt_tot  DER_sum_pt  DER_pt_ratio_lep_tau  \\\n",
        "EventId                                                                     \n",
        "100000                3.064      41.928     197.760                 1.582   \n",
        "100001                3.473       2.078     125.157                 0.879   \n",
        "100002                3.148       9.336     197.814                 3.776   \n",
        "100003                3.310       0.414      75.968                 2.354   \n",
        "100004                3.891      16.405      57.983                 1.056   \n",
        "\n",
        "         DER_met_phi_centrality  DER_lep_eta_centrality  PRI_tau_pt  \\\n",
        "EventId                                                               \n",
        "100000                    1.396                     0.2      32.638   \n",
        "100001                    1.414                  -999.0      42.014   \n",
        "100002                    1.414                  -999.0      32.154   \n",
        "100003                   -1.285                  -999.0      22.647   \n",
        "100004                   -1.385                  -999.0      28.209   \n",
        "\n",
        "         PRI_tau_eta  PRI_tau_phi  PRI_lep_pt  PRI_lep_eta  PRI_lep_phi  \\\n",
        "EventId                                                                   \n",
        "100000         1.017        0.381      51.626        2.273       -2.414   \n",
        "100001         2.039       -3.011      36.918        0.501        0.103   \n",
        "100002        -0.705       -2.093     121.409       -0.953        1.052   \n",
        "100003        -1.655        0.010      53.321       -0.522       -3.100   \n",
        "100004        -2.197       -2.231      29.774        0.798        1.569   \n",
        "\n",
        "         PRI_met      \n",
        "EventId               \n",
        "100000    16.824 ...  \n",
        "100001    44.704 ...  \n",
        "100002    54.283 ...  \n",
        "100003    31.082 ...  \n",
        "100004     2.723 ...  \n",
        "\n",
        "[5 rows x 30 columns]"
       ]
      }
     ],
     "prompt_number": 36
    },
    {
     "cell_type": "markdown",
     "metadata": {},
     "source": [
      "Slicing off header row and id, weight, and label columns."
     ]
    },
    {
     "cell_type": "code",
     "collapsed": false,
     "input": [
      "# xs = np.array([list(map(float, row[1:-2])) for row in all[1:]])\n",
      "# (numPoints,numFeatures) = xs.shape\n",
      "(n_points, n_features) = df.shape"
     ],
     "language": "python",
     "metadata": {},
     "outputs": [],
     "prompt_number": 37
    },
    {
     "cell_type": "code",
     "collapsed": false,
     "input": [
      "df.info()"
     ],
     "language": "python",
     "metadata": {},
     "outputs": [
      {
       "output_type": "stream",
       "stream": "stdout",
       "text": [
        "<class 'pandas.core.frame.DataFrame'>\n",
        "Int64Index: 250000 entries, 100000 to 349999\n",
        "Data columns (total 30 columns):\n",
        "DER_mass_MMC                   250000 non-null float64\n",
        "DER_mass_transverse_met_lep    250000 non-null float64\n",
        "DER_mass_vis                   250000 non-null float64\n",
        "DER_pt_h                       250000 non-null float64\n",
        "DER_deltaeta_jet_jet           250000 non-null float64\n",
        "DER_mass_jet_jet               250000 non-null float64\n",
        "DER_prodeta_jet_jet            250000 non-null float64\n",
        "DER_deltar_tau_lep             250000 non-null float64\n",
        "DER_pt_tot                     250000 non-null float64\n",
        "DER_sum_pt                     250000 non-null float64\n",
        "DER_pt_ratio_lep_tau           250000 non-null float64\n",
        "DER_met_phi_centrality         250000 non-null float64\n",
        "DER_lep_eta_centrality         250000 non-null float64\n",
        "PRI_tau_pt                     250000 non-null float64\n",
        "PRI_tau_eta                    250000 non-null float64\n",
        "PRI_tau_phi                    250000 non-null float64\n",
        "PRI_lep_pt                     250000 non-null float64\n",
        "PRI_lep_eta                    250000 non-null float64\n",
        "PRI_lep_phi                    250000 non-null float64\n",
        "PRI_met                        250000 non-null float64\n",
        "PRI_met_phi                    250000 non-null float64\n",
        "PRI_met_sumet                  250000 non-null float64\n",
        "PRI_jet_num                    250000 non-null int64\n",
        "PRI_jet_leading_pt             250000 non-null float64\n",
        "PRI_jet_leading_eta            250000 non-null float64\n",
        "PRI_jet_leading_phi            250000 non-null float64\n",
        "PRI_jet_subleading_pt          250000 non-null float64\n",
        "PRI_jet_subleading_eta         250000 non-null float64\n",
        "PRI_jet_subleading_phi         250000 non-null float64\n",
        "PRI_jet_all_pt                 250000 non-null float64\n",
        "dtypes: float64(29), int64(1)"
       ]
      }
     ],
     "prompt_number": 39
    },
    {
     "cell_type": "markdown",
     "metadata": {},
     "source": [
      "Perturbing features to avoid ties. It's far from optimal but makes life easier in this simple example."
     ]
    },
    {
     "cell_type": "code",
     "collapsed": false,
     "input": [
      "# xs = np.add(xs, np.random.normal(0.0, 0.0001, xs.shape))\n",
      "df = df + np.random.normal(0, .001, df.shape)"
     ],
     "language": "python",
     "metadata": {},
     "outputs": [],
     "prompt_number": 40
    },
    {
     "cell_type": "markdown",
     "metadata": {},
     "source": [
      "Label selectors."
     ]
    },
    {
     "cell_type": "code",
     "collapsed": false,
     "input": [
      "# sSelector = np.array([row[-1] == 's' for row in all[1:]])\n",
      "# bSelector = np.array([row[-1] == 'b' for row in all[1:]])\n",
      "\n",
      "sSelector = labels == 's'\n",
      "bSelector = ~sSelector"
     ],
     "language": "python",
     "metadata": {},
     "outputs": [],
     "prompt_number": 49
    },
    {
     "cell_type": "code",
     "collapsed": false,
     "input": [
      "labels"
     ],
     "language": "python",
     "metadata": {},
     "outputs": [
      {
       "metadata": {},
       "output_type": "pyout",
       "prompt_number": 50,
       "text": [
        "EventId\n",
        "100000     s\n",
        "100001     b\n",
        "100002     b\n",
        "100003     b\n",
        "100004     b\n",
        "100005     b\n",
        "100006     s\n",
        "100007     s\n",
        "100008     b\n",
        "100009     s\n",
        "100010     b\n",
        "100011     b\n",
        "100012     b\n",
        "100013     b\n",
        "100014     b\n",
        "...\n",
        "349985     s\n",
        "349986     s\n",
        "349987     b\n",
        "349988     b\n",
        "349989     b\n",
        "349990     b\n",
        "349991     s\n",
        "349992     b\n",
        "349993     s\n",
        "349994     b\n",
        "349995     b\n",
        "349996     b\n",
        "349997     s\n",
        "349998     b\n",
        "349999     b\n",
        "Name: Label, Length: 250000, dtype: object"
       ]
      }
     ],
     "prompt_number": 50
    },
    {
     "cell_type": "markdown",
     "metadata": {},
     "source": [
      "Weights and weight sums."
     ]
    },
    {
     "cell_type": "heading",
     "level": 2,
     "metadata": {},
     "source": [
      "Training and validation cuts"
     ]
    },
    {
     "cell_type": "markdown",
     "metadata": {},
     "source": [
      "We will train a classifier on a random training set for minimizing the weighted error with balanced weights, then we will maximize the AMS on the held out validation set."
     ]
    },
    {
     "cell_type": "code",
     "collapsed": false,
     "input": [
      "randomPermutation = random.sample(range(len(xs)), len(xs))\n",
      "numPointsTrain = int(numPoints*0.9)\n",
      "numPointsValidation = numPoints - numPointsTrain\n",
      "\n",
      "xsTrain = xs[randomPermutation[:numPointsTrain]]\n",
      "xsValidation = xs[randomPermutation[numPointsTrain:]]\n",
      "\n",
      "sSelectorTrain = sSelector[randomPermutation[:numPointsTrain]]\n",
      "bSelectorTrain = bSelector[randomPermutation[:numPointsTrain]]\n",
      "sSelectorValidation = sSelector[randomPermutation[numPointsTrain:]]\n",
      "bSelectorValidation = bSelector[randomPermutation[numPointsTrain:]]\n",
      "\n",
      "weightsTrain = weights[randomPermutation[:numPointsTrain]]\n",
      "weightsValidation = weights[randomPermutation[numPointsTrain:]]\n",
      "\n",
      "sumWeightsTrain = np.sum(weightsTrain)\n",
      "sumSWeightsTrain = np.sum(weightsTrain[sSelectorTrain])\n",
      "sumBWeightsTrain = np.sum(weightsTrain[bSelectorTrain])"
     ],
     "language": "python",
     "metadata": {},
     "outputs": [
      {
       "ename": "ValueError",
       "evalue": "cannot index with vector containing NA / NaN values",
       "output_type": "pyerr",
       "traceback": [
        "\u001b[0;31m---------------------------------------------------------------------------\u001b[0m\n\u001b[0;31mValueError\u001b[0m                                Traceback (most recent call last)",
        "\u001b[0;32m<ipython-input-52-4c0f4b72aee3>\u001b[0m in \u001b[0;36m<module>\u001b[0;34m()\u001b[0m\n\u001b[1;32m     15\u001b[0m \u001b[0;34m\u001b[0m\u001b[0m\n\u001b[1;32m     16\u001b[0m \u001b[0msumWeightsTrain\u001b[0m \u001b[0;34m=\u001b[0m \u001b[0mnp\u001b[0m\u001b[0;34m.\u001b[0m\u001b[0msum\u001b[0m\u001b[0;34m(\u001b[0m\u001b[0mweightsTrain\u001b[0m\u001b[0;34m)\u001b[0m\u001b[0;34m\u001b[0m\u001b[0m\n\u001b[0;32m---> 17\u001b[0;31m \u001b[0msumSWeightsTrain\u001b[0m \u001b[0;34m=\u001b[0m \u001b[0mnp\u001b[0m\u001b[0;34m.\u001b[0m\u001b[0msum\u001b[0m\u001b[0;34m(\u001b[0m\u001b[0mweightsTrain\u001b[0m\u001b[0;34m[\u001b[0m\u001b[0msSelectorTrain\u001b[0m\u001b[0;34m]\u001b[0m\u001b[0;34m)\u001b[0m\u001b[0;34m\u001b[0m\u001b[0m\n\u001b[0m\u001b[1;32m     18\u001b[0m \u001b[0msumBWeightsTrain\u001b[0m \u001b[0;34m=\u001b[0m \u001b[0mnp\u001b[0m\u001b[0;34m.\u001b[0m\u001b[0msum\u001b[0m\u001b[0;34m(\u001b[0m\u001b[0mweightsTrain\u001b[0m\u001b[0;34m[\u001b[0m\u001b[0mbSelectorTrain\u001b[0m\u001b[0;34m]\u001b[0m\u001b[0;34m)\u001b[0m\u001b[0;34m\u001b[0m\u001b[0m\n",
        "\u001b[0;32m/Users/tom/Envs/py3/lib/python3.3/site-packages/pandas-0.13.1_791_g07f6d46-py3.3-macosx-10.9-x86_64.egg/pandas/core/series.py\u001b[0m in \u001b[0;36m__getitem__\u001b[0;34m(self, key)\u001b[0m\n\u001b[1;32m    515\u001b[0m             \u001b[0mkey\u001b[0m \u001b[0;34m=\u001b[0m \u001b[0mlist\u001b[0m\u001b[0;34m(\u001b[0m\u001b[0mkey\u001b[0m\u001b[0;34m)\u001b[0m\u001b[0;34m\u001b[0m\u001b[0m\n\u001b[1;32m    516\u001b[0m \u001b[0;34m\u001b[0m\u001b[0m\n\u001b[0;32m--> 517\u001b[0;31m         \u001b[0;32mif\u001b[0m \u001b[0m_is_bool_indexer\u001b[0m\u001b[0;34m(\u001b[0m\u001b[0mkey\u001b[0m\u001b[0;34m)\u001b[0m\u001b[0;34m:\u001b[0m\u001b[0;34m\u001b[0m\u001b[0m\n\u001b[0m\u001b[1;32m    518\u001b[0m             \u001b[0mkey\u001b[0m \u001b[0;34m=\u001b[0m \u001b[0m_check_bool_indexer\u001b[0m\u001b[0;34m(\u001b[0m\u001b[0mself\u001b[0m\u001b[0;34m.\u001b[0m\u001b[0mindex\u001b[0m\u001b[0;34m,\u001b[0m \u001b[0mkey\u001b[0m\u001b[0;34m)\u001b[0m\u001b[0;34m\u001b[0m\u001b[0m\n\u001b[1;32m    519\u001b[0m \u001b[0;34m\u001b[0m\u001b[0m\n",
        "\u001b[0;32m/Users/tom/Envs/py3/lib/python3.3/site-packages/pandas-0.13.1_791_g07f6d46-py3.3-macosx-10.9-x86_64.egg/pandas/core/common.py\u001b[0m in \u001b[0;36m_is_bool_indexer\u001b[0;34m(key)\u001b[0m\n\u001b[1;32m   1811\u001b[0m             \u001b[0;32mif\u001b[0m \u001b[0;32mnot\u001b[0m \u001b[0mlib\u001b[0m\u001b[0;34m.\u001b[0m\u001b[0mis_bool_array\u001b[0m\u001b[0;34m(\u001b[0m\u001b[0mkey\u001b[0m\u001b[0;34m)\u001b[0m\u001b[0;34m:\u001b[0m\u001b[0;34m\u001b[0m\u001b[0m\n\u001b[1;32m   1812\u001b[0m                 \u001b[0;32mif\u001b[0m \u001b[0misnull\u001b[0m\u001b[0;34m(\u001b[0m\u001b[0mkey\u001b[0m\u001b[0;34m)\u001b[0m\u001b[0;34m.\u001b[0m\u001b[0many\u001b[0m\u001b[0;34m(\u001b[0m\u001b[0;34m)\u001b[0m\u001b[0;34m:\u001b[0m\u001b[0;34m\u001b[0m\u001b[0m\n\u001b[0;32m-> 1813\u001b[0;31m                     raise ValueError('cannot index with vector containing '\n\u001b[0m\u001b[1;32m   1814\u001b[0m                                      'NA / NaN values')\n\u001b[1;32m   1815\u001b[0m                 \u001b[0;32mreturn\u001b[0m \u001b[0;32mFalse\u001b[0m\u001b[0;34m\u001b[0m\u001b[0m\n",
        "\u001b[0;31mValueError\u001b[0m: cannot index with vector containing NA / NaN values"
       ]
      }
     ],
     "prompt_number": 52
    },
    {
     "cell_type": "code",
     "collapsed": false,
     "input": [
      "ls"
     ],
     "language": "python",
     "metadata": {},
     "outputs": [
      {
       "output_type": "stream",
       "stream": "stdout",
       "text": [
        "HiggsBosonCompetition_AMSMetric_rev1.py\r\n",
        "random_submission.csv\r\n",
        "random_submission.zip\r\n",
        "startingKitHiggsKegl.ipynb\r\n",
        "test.csv\r\n",
        "test.zip\r\n",
        "training.csv\r\n",
        "training.zip\r\n"
       ]
      }
     ],
     "prompt_number": 53
    },
    {
     "cell_type": "code",
     "collapsed": false,
     "input": [
      "xsTrainTranspose = xsTrain.transpose()"
     ],
     "language": "python",
     "metadata": {},
     "outputs": [],
     "prompt_number": 8
    },
    {
     "cell_type": "markdown",
     "metadata": {},
     "source": [
      "Making signal and background weights sum to $1/2$ each to emulate uniform priors $p(s)=p(b)=1/2$."
     ]
    },
    {
     "cell_type": "code",
     "collapsed": false,
     "input": [
      "weightsBalancedTrain = np.array([0.5 * weightsTrain[i]/sumSWeightsTrain\n",
      "                                 if sSelectorTrain[i]\n",
      "                                 else 0.5 * weightsTrain[i]/sumBWeightsTrain\\\n",
      "                                 for i in range(numPointsTrain)])"
     ],
     "language": "python",
     "metadata": {},
     "outputs": [],
     "prompt_number": 9
    },
    {
     "cell_type": "heading",
     "level": 2,
     "metadata": {},
     "source": [
      "Training naive Bayes and defining the score function"
     ]
    },
    {
     "cell_type": "markdown",
     "metadata": {},
     "source": [
      "Number of bins per dimension for binned naive Bayes."
     ]
    },
    {
     "cell_type": "code",
     "collapsed": false,
     "input": [
      "numBins = 10"
     ],
     "language": "python",
     "metadata": {},
     "outputs": [],
     "prompt_number": 10
    },
    {
     "cell_type": "markdown",
     "metadata": {},
     "source": [
      "<code>logPs[fI,bI]</code> will be the log probability of a data point <code>x</code> with <code>binMaxs[bI - 1] < x[fI] <= binMaxs[bI]</code> (with <code>binMaxs[-1] = -</code>$\\infty$ by convention) being a signal under uniform priors $p(\\text{s}) = p(\\text{b}) = 1/2$."
     ]
    },
    {
     "cell_type": "code",
     "collapsed": false,
     "input": [
      "logPs = np.empty([numFeatures, numBins])\n",
      "binMaxs = np.empty([numFeatures, numBins])\n",
      "binIndexes = np.array(range(0, numPointsTrain+1, numPointsTrain/numBins))"
     ],
     "language": "python",
     "metadata": {},
     "outputs": [],
     "prompt_number": 11
    },
    {
     "cell_type": "code",
     "collapsed": false,
     "input": [
      "for fI in range(numFeatures):\n",
      "    # index permutation of sorted feature column\n",
      "    indexes = xsTrainTranspose[fI].argsort()\n",
      "\n",
      "    for bI in range(numBins):\n",
      "        # upper bin limits\n",
      "        binMaxs[fI, bI] = xsTrainTranspose[fI, indexes[binIndexes[bI+1]-1]]\n",
      "        # training indices of points in a bin\n",
      "        indexesInBin = indexes[binIndexes[bI]:binIndexes[bI+1]]\n",
      "        # sum of signal weights in bin\n",
      "        wS = np.sum(weightsBalancedTrain[indexesInBin]\n",
      "                    [sSelectorTrain[indexesInBin]])\n",
      "        # sum of background weights in bin\n",
      "        wB = np.sum(weightsBalancedTrain[indexesInBin]\n",
      "                    [bSelectorTrain[indexesInBin]])\n",
      "        # log probability of being a signal in the bin\n",
      "        logPs[fI, bI] = math.log(wS/(wS+wB))"
     ],
     "language": "python",
     "metadata": {},
     "outputs": [],
     "prompt_number": 12
    },
    {
     "cell_type": "markdown",
     "metadata": {},
     "source": [
      "The score function we will use to sort the test examples. For readability it is shifted so negative means likely background (under uniform prior) and positive means likely signal. <code>x</code> is an input vector."
     ]
    },
    {
     "cell_type": "code",
     "collapsed": false,
     "input": [
      "def score(x):\n",
      "    logP = 0\n",
      "    for fI in range(numFeatures):\n",
      "        bI = 0\n",
      "        # linear search for the bin index of the fIth feature\n",
      "        # of the signal\n",
      "        while bI < len(binMaxs[fI]) - 1 and x[fI] > binMaxs[fI, bI]:\n",
      "            bI += 1\n",
      "        logP += logPs[fI, bI] - math.log(0.5)\n",
      "    return logP"
     ],
     "language": "python",
     "metadata": {},
     "outputs": [],
     "prompt_number": 13
    },
    {
     "cell_type": "heading",
     "level": 2,
     "metadata": {},
     "source": [
      "Optimizing the AMS on the held out validation set"
     ]
    },
    {
     "cell_type": "markdown",
     "metadata": {},
     "source": [
      "The Approximate Median Significance\n",
      "\\begin{equation*}\n",
      "\\text{AMS} = \\sqrt{ 2 \\left( (s + b + 10) \\ln \\left( 1 + \\frac{s}{b +\n",
      "    10} \\right) - s \\right) }\n",
      "\\end{equation*}\n",
      "<code>s</code> and <code>b</code> are the sum of signal and background weights, respectively, in the selection region."
     ]
    },
    {
     "cell_type": "code",
     "collapsed": false,
     "input": [
      "def AMS(s,b):\n",
      "    assert s >= 0\n",
      "    assert b >= 0\n",
      "    bReg = 10.\n",
      "    return math.sqrt(2 * ((s + b + bReg) * \n",
      "                          math.log(1 + s / (b + bReg)) - s))"
     ],
     "language": "python",
     "metadata": {},
     "outputs": [],
     "prompt_number": 14
    },
    {
     "cell_type": "markdown",
     "metadata": {},
     "source": [
      "Computing the scores on the validation set"
     ]
    },
    {
     "cell_type": "code",
     "collapsed": false,
     "input": [
      "validationScores = np.array([score(x) for x in xsValidation])"
     ],
     "language": "python",
     "metadata": {},
     "outputs": [],
     "prompt_number": 15
    },
    {
     "cell_type": "markdown",
     "metadata": {},
     "source": [
      "Sorting the indices in increasing order of the scores."
     ]
    },
    {
     "cell_type": "code",
     "collapsed": false,
     "input": [
      "tIIs = validationScores.argsort()"
     ],
     "language": "python",
     "metadata": {},
     "outputs": [],
     "prompt_number": 16
    },
    {
     "cell_type": "markdown",
     "metadata": {},
     "source": [
      "Weights have to be normalized to the same sum as in the full set."
     ]
    },
    {
     "cell_type": "code",
     "collapsed": false,
     "input": [
      "wFactor = 1.* numPoints / numPointsValidation"
     ],
     "language": "python",
     "metadata": {},
     "outputs": [],
     "prompt_number": 17
    },
    {
     "cell_type": "markdown",
     "metadata": {},
     "source": [
      "Initializing $s$ and $b$ to the full sum of weights, we start by having all points in the selectiom region."
     ]
    },
    {
     "cell_type": "code",
     "collapsed": false,
     "input": [
      "s = np.sum(weightsValidation[sSelectorValidation])\n",
      "b = np.sum(weightsValidation[bSelectorValidation])"
     ],
     "language": "python",
     "metadata": {},
     "outputs": [],
     "prompt_number": 18
    },
    {
     "cell_type": "markdown",
     "metadata": {},
     "source": [
      "<code>amss</code> will contain AMSs after each point moved out of the selection region in the sorted validation set."
     ]
    },
    {
     "cell_type": "code",
     "collapsed": false,
     "input": [
      "amss = np.empty([len(tIIs)])"
     ],
     "language": "python",
     "metadata": {},
     "outputs": [],
     "prompt_number": 19
    },
    {
     "cell_type": "markdown",
     "metadata": {},
     "source": [
      "<code>amsMax</code> will contain the best validation AMS, and <code>threshold</code> will be the smallest score among the selected points."
     ]
    },
    {
     "cell_type": "code",
     "collapsed": false,
     "input": [
      "amsMax = 0\n",
      "threshold = 0.0"
     ],
     "language": "python",
     "metadata": {},
     "outputs": [],
     "prompt_number": 20
    },
    {
     "cell_type": "markdown",
     "metadata": {},
     "source": [
      "We will do <code>len(tIIs)</code> iterations, which means that <code>amss[-1]</code> is the AMS when only the point with the highest score is selected."
     ]
    },
    {
     "cell_type": "code",
     "collapsed": false,
     "input": [
      "for tI in range(len(tIIs)):\n",
      "    # don't forget to renormalize the weights to the same sum \n",
      "    # as in the complete training set\n",
      "    amss[tI] = AMS(max(0,s * wFactor),max(0,b * wFactor))\n",
      "    if amss[tI] > amsMax:\n",
      "        amsMax = amss[tI]\n",
      "        threshold = validationScores[tIIs[tI]]\n",
      "        #print tI,threshold\n",
      "    if sSelectorValidation[tIIs[tI]]:\n",
      "        s -= weightsValidation[tIIs[tI]]\n",
      "    else:\n",
      "        b -= weightsValidation[tIIs[tI]]"
     ],
     "language": "python",
     "metadata": {},
     "outputs": [],
     "prompt_number": 21
    },
    {
     "cell_type": "code",
     "collapsed": false,
     "input": [
      "amsMax"
     ],
     "language": "python",
     "metadata": {},
     "outputs": [
      {
       "metadata": {},
       "output_type": "pyout",
       "prompt_number": 22,
       "text": [
        "2.0538253122002437"
       ]
      }
     ],
     "prompt_number": 22
    },
    {
     "cell_type": "code",
     "collapsed": false,
     "input": [
      "threshold"
     ],
     "language": "python",
     "metadata": {},
     "outputs": [
      {
       "metadata": {},
       "output_type": "pyout",
       "prompt_number": 23,
       "text": [
        "0.03607199666154548"
       ]
      }
     ],
     "prompt_number": 23
    },
    {
     "cell_type": "code",
     "collapsed": false,
     "input": [
      "plt.plot(amss)"
     ],
     "language": "python",
     "metadata": {},
     "outputs": [
      {
       "metadata": {},
       "output_type": "pyout",
       "prompt_number": 24,
       "text": [
        "[<matplotlib.lines.Line2D at 0x1248b3110>]"
       ]
      },
      {
       "metadata": {},
       "output_type": "display_data",
       "png": "[encoded data removed]",
       "text": [
        "<matplotlib.figure.Figure at 0x12488c110>"
       ]
      }
     ],
     "prompt_number": 24
    },
    {
     "cell_type": "heading",
     "level": 2,
     "metadata": {},
     "source": [
      "Computing the permutation on the test set"
     ]
    },
    {
     "cell_type": "markdown",
     "metadata": {},
     "source": [
      "Reading the test file, slicing off the header row and the id column, and converting the data into float."
     ]
    },
    {
     "cell_type": "code",
     "collapsed": false,
     "input": [
      "test = list(csv.reader(open(\"test.csv\", \"rb\"),delimiter=','))\n",
      "xsTest = np.array([map(float, row[1:]) for row in test[1:]])"
     ],
     "language": "python",
     "metadata": {},
     "outputs": [],
     "prompt_number": 25
    },
    {
     "cell_type": "code",
     "collapsed": false,
     "input": [
      "testIds = np.array([int(row[0]) for row in test[1:]])"
     ],
     "language": "python",
     "metadata": {},
     "outputs": [],
     "prompt_number": 26
    },
    {
     "cell_type": "markdown",
     "metadata": {},
     "source": [
      "Computing the scores."
     ]
    },
    {
     "cell_type": "code",
     "collapsed": false,
     "input": [
      "testScores = np.array([score(x) for x in xsTest])"
     ],
     "language": "python",
     "metadata": {},
     "outputs": [],
     "prompt_number": 27
    },
    {
     "cell_type": "markdown",
     "metadata": {},
     "source": [
      "Computing the rank order."
     ]
    },
    {
     "cell_type": "code",
     "collapsed": false,
     "input": [
      "testInversePermutation = testScores.argsort()"
     ],
     "language": "python",
     "metadata": {},
     "outputs": [],
     "prompt_number": 28
    },
    {
     "cell_type": "code",
     "collapsed": false,
     "input": [
      "testPermutation = list(testInversePermutation)\n",
      "for tI,tII in zip(range(len(testInversePermutation)),\n",
      "                  testInversePermutation):\n",
      "    testPermutation[tII] = tI"
     ],
     "language": "python",
     "metadata": {},
     "outputs": [],
     "prompt_number": 29
    },
    {
     "cell_type": "markdown",
     "metadata": {},
     "source": [
      "Computing the submission file with columns EventId, RankOrder, and Class."
     ]
    },
    {
     "cell_type": "code",
     "collapsed": false,
     "input": [
      "submission = np.array([[str(testIds[tI]),str(testPermutation[tI]+1),\n",
      "                       's' if testScores[tI] >= threshold else 'b'] \n",
      "            for tI in range(len(testIds))])"
     ],
     "language": "python",
     "metadata": {},
     "outputs": [],
     "prompt_number": 30
    },
    {
     "cell_type": "code",
     "collapsed": false,
     "input": [
      "submission = np.append([['EventId','RankOrder','Class']],\n",
      "                        submission, axis=0)"
     ],
     "language": "python",
     "metadata": {},
     "outputs": [],
     "prompt_number": 31
    },
    {
     "cell_type": "markdown",
     "metadata": {},
     "source": [
      "Saving the file that can be submitted to Kaggle."
     ]
    },
    {
     "cell_type": "code",
     "collapsed": false,
     "input": [
      "np.savetxt(\"submission.csv\",submission,fmt='%s',delimiter=',')"
     ],
     "language": "python",
     "metadata": {},
     "outputs": [],
     "prompt_number": 32
    },
    {
     "cell_type": "code",
     "collapsed": false,
     "input": [],
     "language": "python",
     "metadata": {},
     "outputs": []
    }
   ],
   "metadata": {}
  }
 ]
}