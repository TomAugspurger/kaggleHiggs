{
 "metadata": {
  "name": "",
  "signature": "sha256:67cebc430671f31e5d607abfa5680082d87cb09074c85d9df84111144e558260"
 },
 "nbformat": 3,
 "nbformat_minor": 0,
 "worksheets": [
  {
   "cells": [
    {
     "cell_type": "heading",
     "level": 1,
     "metadata": {},
     "source": [
      "Starting kit for the Higgs boson machine learning challenge"
     ]
    },
    {
     "cell_type": "markdown",
     "metadata": {},
     "source": [
      "This notebook contains a starting kit for the <a href=\"https://www.kaggle.com/c/higgs-boson\">\n",
      "Higgs boson machine learning challenge</a>. Download the training set (called <code>training.csv</code>) and the test set (<code>test.csv</code>), then execute cells in order."
     ]
    },
    {
     "cell_type": "code",
     "collapsed": false,
     "input": [
      "%matplotlib inline\n",
      "\n",
      "import random\n",
      "import string\n",
      "import math\n",
      "import csv\n",
      "\n",
      "import numpy as np\n",
      "import matplotlib.pyplot as plt"
     ],
     "language": "python",
     "metadata": {},
     "outputs": [],
     "prompt_number": 2
    },
    {
     "cell_type": "heading",
     "level": 2,
     "metadata": {},
     "source": [
      "Reading an formatting training data"
     ]
    },
    {
     "cell_type": "code",
     "collapsed": false,
     "input": [
      "all = list(csv.reader(open(\"training.csv\",\"rt\"), delimiter=','))"
     ],
     "language": "python",
     "metadata": {},
     "outputs": [],
     "prompt_number": 3
    },
    {
     "cell_type": "markdown",
     "metadata": {},
     "source": [
      "Slicing off header row and id, weight, and label columns."
     ]
    },
    {
     "cell_type": "code",
     "collapsed": false,
     "input": [
      "xs = np.array([list(map(float, row[1:-2])) for row in all[1:]])\n",
      "(numPoints,numFeatures) = xs.shape\n"
     ],
     "language": "python",
     "metadata": {},
     "outputs": [],
     "prompt_number": 4
    },
    {
     "cell_type": "markdown",
     "metadata": {},
     "source": [
      "Perturbing features to avoid ties. It's far from optimal but makes life easier in this simple example."
     ]
    },
    {
     "cell_type": "code",
     "collapsed": false,
     "input": [
      "xs = np.add(xs, np.random.normal(0.0, 0.0001, xs.shape))"
     ],
     "language": "python",
     "metadata": {},
     "outputs": [],
     "prompt_number": 5
    },
    {
     "cell_type": "markdown",
     "metadata": {},
     "source": [
      "Label selectors."
     ]
    },
    {
     "cell_type": "code",
     "collapsed": false,
     "input": [
      "sSelector = np.array([row[-1] == 's' for row in all[1:]])\n",
      "bSelector = np.array([row[-1] == 'b' for row in all[1:]])"
     ],
     "language": "python",
     "metadata": {},
     "outputs": [],
     "prompt_number": 6
    },
    {
     "cell_type": "markdown",
     "metadata": {},
     "source": [
      "Weights and weight sums."
     ]
    },
    {
     "cell_type": "code",
     "collapsed": false,
     "input": [
      "weights = np.array([float(row[-2]) for row in all[1:]])\n",
      "sumWeights = np.sum(weights)\n",
      "sumSWeights = np.sum(weights[sSelector])\n",
      "sumBWeights = np.sum(weights[bSelector])\n"
     ],
     "language": "python",
     "metadata": {},
     "outputs": [],
     "prompt_number": 7
    },
    {
     "cell_type": "heading",
     "level": 2,
     "metadata": {},
     "source": [
      "Training and validation cuts"
     ]
    },
    {
     "cell_type": "markdown",
     "metadata": {},
     "source": [
      "We will train a classifier on a random training set for minimizing the weighted error with balanced weights, then we will maximize the AMS on the held out validation set."
     ]
    },
    {
     "cell_type": "code",
     "collapsed": false,
     "input": [
      "xsTrain"
     ],
     "language": "python",
     "metadata": {},
     "outputs": [
      {
       "metadata": {},
       "output_type": "pyout",
       "prompt_number": 44,
       "text": [
        "array([[  9.87068809e+01,   7.12049780e+01,   8.39770853e+01, ...,\n",
        "         -9.99000165e+02,  -9.98999962e+02,   2.25654555e-06],\n",
        "       [  9.57059287e+01,   5.01659845e+01,   5.91480046e+01, ...,\n",
        "         -9.98999891e+02,  -9.98999959e+02,   1.15021858e-04],\n",
        "       [  1.42209016e+02,   4.22218979e+01,   8.96650376e+01, ...,\n",
        "          5.69936249e-02,   2.95093667e+00,   1.08156086e+02],\n",
        "       ..., \n",
        "       [  1.63381937e+02,   7.56199972e+01,   1.03548896e+02, ...,\n",
        "         -9.98999888e+02,  -9.99000168e+02,   7.51673556e-05],\n",
        "       [  4.98398873e+01,   8.00451616e+01,   4.17932026e+01, ...,\n",
        "         -9.99000041e+02,  -9.99000045e+02,   4.53350491e+01],\n",
        "       [  1.29873037e+02,   2.91601910e+01,   9.56250119e+01, ...,\n",
        "         -9.98999914e+02,  -9.99000005e+02,   2.23604574e-05]])"
       ]
      }
     ],
     "prompt_number": 44
    },
    {
     "cell_type": "code",
     "collapsed": false,
     "input": [
      "randomPermutation = random.sample(range(len(xs)), len(xs))\n",
      "numPointsTrain = int(numPoints*0.9)\n",
      "numPointsValidation = numPoints - numPointsTrain\n",
      "\n",
      "xsTrain = xs[randomPermutation[:numPointsTrain]]\n",
      "xsValidation = xs[randomPermutation[numPointsTrain:]]\n",
      "\n",
      "sSelectorTrain = sSelector[randomPermutation[:numPointsTrain]]\n",
      "bSelectorTrain = bSelector[randomPermutation[:numPointsTrain]]\n",
      "sSelectorValidation = sSelector[randomPermutation[numPointsTrain:]]\n",
      "bSelectorValidation = bSelector[randomPermutation[numPointsTrain:]]\n",
      "\n",
      "weightsTrain = weights[randomPermutation[:numPointsTrain]]\n",
      "weightsValidation = weights[randomPermutation[numPointsTrain:]]\n",
      "\n",
      "sumWeightsTrain = np.sum(weightsTrain)\n",
      "sumSWeightsTrain = np.sum(weightsTrain[sSelectorTrain])\n",
      "sumBWeightsTrain = np.sum(weightsTrain[bSelectorTrain])"
     ],
     "language": "python",
     "metadata": {},
     "outputs": [],
     "prompt_number": 8
    },
    {
     "cell_type": "code",
     "collapsed": false,
     "input": [
      "xsTrainTranspose = xsTrain.transpose()"
     ],
     "language": "python",
     "metadata": {},
     "outputs": [],
     "prompt_number": 9
    },
    {
     "cell_type": "markdown",
     "metadata": {},
     "source": [
      "Making signal and background weights sum to $1/2$ each to emulate uniform priors $p(s)=p(b)=1/2$."
     ]
    },
    {
     "cell_type": "code",
     "collapsed": false,
     "input": [
      "weightsBalancedTrain = np.array([0.5 * weightsTrain[i]/sumSWeightsTrain\n",
      "                                 if sSelectorTrain[i]\n",
      "                                 else 0.5 * weightsTrain[i]/sumBWeightsTrain\\\n",
      "                                 for i in range(numPointsTrain)])\n",
      "weightsBalancedTrain.sum()"
     ],
     "language": "python",
     "metadata": {},
     "outputs": [
      {
       "metadata": {},
       "output_type": "pyout",
       "prompt_number": 10,
       "text": [
        "1.0000000000001312"
       ]
      }
     ],
     "prompt_number": 10
    },
    {
     "cell_type": "heading",
     "level": 2,
     "metadata": {},
     "source": [
      "Training naive Bayes and defining the score function"
     ]
    },
    {
     "cell_type": "markdown",
     "metadata": {},
     "source": [
      "Number of bins per dimension for binned naive Bayes."
     ]
    },
    {
     "cell_type": "code",
     "collapsed": false,
     "input": [
      "numBins = 10"
     ],
     "language": "python",
     "metadata": {},
     "outputs": [],
     "prompt_number": 45
    },
    {
     "cell_type": "markdown",
     "metadata": {},
     "source": [
      "<code>logPs[fI,bI]</code> will be the log probability of a data point <code>x</code> with <code>binMaxs[bI - 1] < x[fI] <= binMaxs[bI]</code> (with <code>binMaxs[-1] = -</code>$\\infty$ by convention) being a signal under uniform priors $p(\\text{s}) = p(\\text{b}) = 1/2$."
     ]
    },
    {
     "cell_type": "code",
     "collapsed": false,
     "input": [
      "logPs = np.empty([numFeatures, numBins])\n",
      "binMaxs = np.empty([numFeatures, numBins])\n",
      "binIndexes = np.array(range(0, numPointsTrain+1, numPointsTrain//numBins))"
     ],
     "language": "python",
     "metadata": {},
     "outputs": [],
     "prompt_number": 46
    },
    {
     "cell_type": "code",
     "collapsed": false,
     "input": [
      "fI = 0\n",
      "indexes = xsTrainTranspose[fI].argsort()\n",
      "xsTrainTranspose[fI, indexes[binIndexes[0+1]-1]]"
     ],
     "language": "python",
     "metadata": {},
     "outputs": [
      {
       "metadata": {},
       "output_type": "pyout",
       "prompt_number": 43,
       "text": [
        "-998.99995953116832"
       ]
      }
     ],
     "prompt_number": 43
    },
    {
     "cell_type": "code",
     "collapsed": false,
     "input": [
      "xsTrainTranspose[fI].argsort()"
     ],
     "language": "python",
     "metadata": {},
     "outputs": [
      {
       "metadata": {},
       "output_type": "pyout",
       "prompt_number": 54,
       "text": [
        "array([ 12856, 188934, 131709, ...,  45802, 213707, 214459])"
       ]
      }
     ],
     "prompt_number": 54
    },
    {
     "cell_type": "code",
     "collapsed": false,
     "input": [
      "for fI in range(numFeatures):\n",
      "    # index permutation of sorted feature column\n",
      "    indexes = xsTrainTranspose[fI].argsort()\n",
      "\n",
      "    for bI in range(numBins):\n",
      "        # upper bin limits\n",
      "        binMaxs[fI, bI] = xsTrainTranspose[fI, indexes[binIndexes[bI+1]-1]]\n",
      "        # training indices of points in a bin\n",
      "        indexesInBin = indexes[binIndexes[bI]:binIndexes[bI+1]]\n",
      "        # sum of signal weights in bin\n",
      "        wS = np.sum(weightsBalancedTrain[indexesInBin]\n",
      "                    [sSelectorTrain[indexesInBin]])\n",
      "        # sum of background weights in bin\n",
      "        wB = np.sum(weightsBalancedTrain[indexesInBin]\n",
      "                    [bSelectorTrain[indexesInBin]])\n",
      "        # log probability of being a signal in the bin\n",
      "        logPs[fI, bI] = math.log(wS/(wS+wB))"
     ],
     "language": "python",
     "metadata": {},
     "outputs": [],
     "prompt_number": 13
    },
    {
     "cell_type": "markdown",
     "metadata": {},
     "source": [
      "The score function we will use to sort the test examples. For readability it is shifted so negative means likely background (under uniform prior) and positive means likely signal. <code>x</code> is an input vector."
     ]
    },
    {
     "cell_type": "code",
     "collapsed": false,
     "input": [
      "def score(x):\n",
      "    logP = 0\n",
      "    for fI in range(numFeatures):\n",
      "        bI = 0\n",
      "        # linear search for the bin index of the fIth feature\n",
      "        # of the signal\n",
      "        while bI < len(binMaxs[fI]) - 1 and x[fI] > binMaxs[fI, bI]:\n",
      "            bI += 1\n",
      "        logP += logPs[fI, bI] - math.log(0.5)\n",
      "    return logP"
     ],
     "language": "python",
     "metadata": {},
     "outputs": [],
     "prompt_number": 14
    },
    {
     "cell_type": "heading",
     "level": 2,
     "metadata": {},
     "source": [
      "Optimizing the AMS on the held out validation set"
     ]
    },
    {
     "cell_type": "markdown",
     "metadata": {},
     "source": [
      "The Approximate Median Significance\n",
      "\\begin{equation*}\n",
      "\\text{AMS} = \\sqrt{ 2 \\left( (s + b + 10) \\ln \\left( 1 + \\frac{s}{b +\n",
      "    10} \\right) - s \\right) }\n",
      "\\end{equation*}\n",
      "<code>s</code> and <code>b</code> are the sum of signal and background weights, respectively, in the selection region."
     ]
    },
    {
     "cell_type": "code",
     "collapsed": false,
     "input": [
      "def AMS(s,b):\n",
      "    assert s >= 0\n",
      "    assert b >= 0\n",
      "    bReg = 10.\n",
      "    return math.sqrt(2 * ((s + b + bReg) * \n",
      "                          math.log(1 + s / (b + bReg)) - s))"
     ],
     "language": "python",
     "metadata": {},
     "outputs": [],
     "prompt_number": 15
    },
    {
     "cell_type": "markdown",
     "metadata": {},
     "source": [
      "Computing the scores on the validation set"
     ]
    },
    {
     "cell_type": "code",
     "collapsed": false,
     "input": [
      "validationScores = np.array([score(x) for x in xsValidation])"
     ],
     "language": "python",
     "metadata": {},
     "outputs": [],
     "prompt_number": 16
    },
    {
     "cell_type": "markdown",
     "metadata": {},
     "source": [
      "Sorting the indices in increasing order of the scores."
     ]
    },
    {
     "cell_type": "code",
     "collapsed": false,
     "input": [
      "tIIs = validationScores.argsort()"
     ],
     "language": "python",
     "metadata": {},
     "outputs": [],
     "prompt_number": 17
    },
    {
     "cell_type": "markdown",
     "metadata": {},
     "source": [
      "Weights have to be normalized to the same sum as in the full set."
     ]
    },
    {
     "cell_type": "code",
     "collapsed": false,
     "input": [
      "wFactor = 1.* numPoints / numPointsValidation"
     ],
     "language": "python",
     "metadata": {},
     "outputs": [],
     "prompt_number": 18
    },
    {
     "cell_type": "markdown",
     "metadata": {},
     "source": [
      "Initializing $s$ and $b$ to the full sum of weights, we start by having all points in the selectiom region."
     ]
    },
    {
     "cell_type": "code",
     "collapsed": false,
     "input": [
      "s = np.sum(weightsValidation[sSelectorValidation])\n",
      "b = np.sum(weightsValidation[bSelectorValidation])"
     ],
     "language": "python",
     "metadata": {},
     "outputs": [],
     "prompt_number": 19
    },
    {
     "cell_type": "markdown",
     "metadata": {},
     "source": [
      "<code>amss</code> will contain AMSs after each point moved out of the selection region in the sorted validation set."
     ]
    },
    {
     "cell_type": "code",
     "collapsed": false,
     "input": [
      "amss = np.empty([len(tIIs)])"
     ],
     "language": "python",
     "metadata": {},
     "outputs": [],
     "prompt_number": 20
    },
    {
     "cell_type": "markdown",
     "metadata": {},
     "source": [
      "<code>amsMax</code> will contain the best validation AMS, and <code>threshold</code> will be the smallest score among the selected points."
     ]
    },
    {
     "cell_type": "code",
     "collapsed": false,
     "input": [
      "amsMax = 0\n",
      "threshold = 0.0"
     ],
     "language": "python",
     "metadata": {},
     "outputs": [],
     "prompt_number": 21
    },
    {
     "cell_type": "markdown",
     "metadata": {},
     "source": [
      "We will do <code>len(tIIs)</code> iterations, which means that <code>amss[-1]</code> is the AMS when only the point with the highest score is selected."
     ]
    },
    {
     "cell_type": "code",
     "collapsed": false,
     "input": [
      "for tI in range(len(tIIs)):\n",
      "    # don't forget to renormalize the weights to the same sum \n",
      "    # as in the complete training set\n",
      "    amss[tI] = AMS(max(0,s * wFactor),max(0,b * wFactor))\n",
      "    if amss[tI] > amsMax:\n",
      "        amsMax = amss[tI]\n",
      "        threshold = validationScores[tIIs[tI]]\n",
      "        #print tI,threshold\n",
      "    if sSelectorValidation[tIIs[tI]]:\n",
      "        s -= weightsValidation[tIIs[tI]]\n",
      "    else:\n",
      "        b -= weightsValidation[tIIs[tI]]"
     ],
     "language": "python",
     "metadata": {},
     "outputs": [],
     "prompt_number": 22
    },
    {
     "cell_type": "code",
     "collapsed": false,
     "input": [
      "amsMax"
     ],
     "language": "python",
     "metadata": {},
     "outputs": [
      {
       "metadata": {},
       "output_type": "pyout",
       "prompt_number": 23,
       "text": [
        "2.0425679448304743"
       ]
      }
     ],
     "prompt_number": 23
    },
    {
     "cell_type": "code",
     "collapsed": false,
     "input": [
      "threshold"
     ],
     "language": "python",
     "metadata": {},
     "outputs": [
      {
       "metadata": {},
       "output_type": "pyout",
       "prompt_number": 24,
       "text": [
        "0.014027569078873592"
       ]
      }
     ],
     "prompt_number": 24
    },
    {
     "cell_type": "code",
     "collapsed": false,
     "input": [
      "plt.plot(amss)"
     ],
     "language": "python",
     "metadata": {},
     "outputs": [
      {
       "metadata": {},
       "output_type": "pyout",
       "prompt_number": 25,
       "text": [
        "[<matplotlib.lines.Line2D at 0x12c447890>]"
       ]
      },
      {
       "metadata": {},
       "output_type": "display_data",
       "png": "[encoded data removed]",
       "text": [
        "<matplotlib.figure.Figure at 0x12b567d10>"
       ]
      }
     ],
     "prompt_number": 25
    },
    {
     "cell_type": "heading",
     "level": 2,
     "metadata": {},
     "source": [
      "Computing the permutation on the test set"
     ]
    },
    {
     "cell_type": "markdown",
     "metadata": {},
     "source": [
      "Reading the test file, slicing off the header row and the id column, and converting the data into float."
     ]
    },
    {
     "cell_type": "code",
     "collapsed": false,
     "input": [
      "test = list(csv.reader(open(\"test.csv\", \"rt\"),delimiter=','))\n",
      "xsTest = np.array([list(map(float, row[1:])) for row in test[1:]])"
     ],
     "language": "python",
     "metadata": {},
     "outputs": [],
     "prompt_number": 26
    },
    {
     "cell_type": "code",
     "collapsed": false,
     "input": [
      "testIds = np.array([int(row[0]) for row in test[1:]])"
     ],
     "language": "python",
     "metadata": {},
     "outputs": []
    },
    {
     "cell_type": "markdown",
     "metadata": {},
     "source": [
      "Computing the scores."
     ]
    },
    {
     "cell_type": "code",
     "collapsed": false,
     "input": [
      "testScores = np.array([score(x) for x in xsTest])"
     ],
     "language": "python",
     "metadata": {},
     "outputs": [
      {
       "ename": "KeyboardInterrupt",
       "evalue": "",
       "output_type": "pyerr",
       "traceback": [
        "\u001b[0;31m---------------------------------------------------------------------------\u001b[0m\n\u001b[0;31mKeyboardInterrupt\u001b[0m                         Traceback (most recent call last)",
        "\u001b[0;32m<ipython-input-27-33cf47335c2c>\u001b[0m in \u001b[0;36m<module>\u001b[0;34m()\u001b[0m\n\u001b[0;32m----> 1\u001b[0;31m \u001b[0mtestScores\u001b[0m \u001b[0;34m=\u001b[0m \u001b[0mnp\u001b[0m\u001b[0;34m.\u001b[0m\u001b[0marray\u001b[0m\u001b[0;34m(\u001b[0m\u001b[0;34m[\u001b[0m\u001b[0mscore\u001b[0m\u001b[0;34m(\u001b[0m\u001b[0mx\u001b[0m\u001b[0;34m)\u001b[0m \u001b[0;32mfor\u001b[0m \u001b[0mx\u001b[0m \u001b[0;32min\u001b[0m \u001b[0mxsTest\u001b[0m\u001b[0;34m]\u001b[0m\u001b[0;34m)\u001b[0m\u001b[0;34m\u001b[0m\u001b[0m\n\u001b[0m",
        "\u001b[0;32m<ipython-input-27-33cf47335c2c>\u001b[0m in \u001b[0;36m<listcomp>\u001b[0;34m(.0)\u001b[0m\n\u001b[0;32m----> 1\u001b[0;31m \u001b[0mtestScores\u001b[0m \u001b[0;34m=\u001b[0m \u001b[0mnp\u001b[0m\u001b[0;34m.\u001b[0m\u001b[0marray\u001b[0m\u001b[0;34m(\u001b[0m\u001b[0;34m[\u001b[0m\u001b[0mscore\u001b[0m\u001b[0;34m(\u001b[0m\u001b[0mx\u001b[0m\u001b[0;34m)\u001b[0m \u001b[0;32mfor\u001b[0m \u001b[0mx\u001b[0m \u001b[0;32min\u001b[0m \u001b[0mxsTest\u001b[0m\u001b[0;34m]\u001b[0m\u001b[0;34m)\u001b[0m\u001b[0;34m\u001b[0m\u001b[0m\n\u001b[0m",
        "\u001b[0;32m<ipython-input-14-fd14e54a5e86>\u001b[0m in \u001b[0;36mscore\u001b[0;34m(x)\u001b[0m\n\u001b[1;32m      5\u001b[0m         \u001b[0;31m# linear search for the bin index of the fIth feature\u001b[0m\u001b[0;34m\u001b[0m\u001b[0;34m\u001b[0m\u001b[0m\n\u001b[1;32m      6\u001b[0m         \u001b[0;31m# of the signal\u001b[0m\u001b[0;34m\u001b[0m\u001b[0;34m\u001b[0m\u001b[0m\n\u001b[0;32m----> 7\u001b[0;31m         \u001b[0;32mwhile\u001b[0m \u001b[0mbI\u001b[0m \u001b[0;34m<\u001b[0m \u001b[0mlen\u001b[0m\u001b[0;34m(\u001b[0m\u001b[0mbinMaxs\u001b[0m\u001b[0;34m[\u001b[0m\u001b[0mfI\u001b[0m\u001b[0;34m]\u001b[0m\u001b[0;34m)\u001b[0m \u001b[0;34m-\u001b[0m \u001b[0;36m1\u001b[0m \u001b[0;32mand\u001b[0m \u001b[0mx\u001b[0m\u001b[0;34m[\u001b[0m\u001b[0mfI\u001b[0m\u001b[0;34m]\u001b[0m \u001b[0;34m>\u001b[0m \u001b[0mbinMaxs\u001b[0m\u001b[0;34m[\u001b[0m\u001b[0mfI\u001b[0m\u001b[0;34m,\u001b[0m \u001b[0mbI\u001b[0m\u001b[0;34m]\u001b[0m\u001b[0;34m:\u001b[0m\u001b[0;34m\u001b[0m\u001b[0m\n\u001b[0m\u001b[1;32m      8\u001b[0m             \u001b[0mbI\u001b[0m \u001b[0;34m+=\u001b[0m \u001b[0;36m1\u001b[0m\u001b[0;34m\u001b[0m\u001b[0m\n\u001b[1;32m      9\u001b[0m         \u001b[0mlogP\u001b[0m \u001b[0;34m+=\u001b[0m \u001b[0mlogPs\u001b[0m\u001b[0;34m[\u001b[0m\u001b[0mfI\u001b[0m\u001b[0;34m,\u001b[0m \u001b[0mbI\u001b[0m\u001b[0;34m]\u001b[0m \u001b[0;34m-\u001b[0m \u001b[0mmath\u001b[0m\u001b[0;34m.\u001b[0m\u001b[0mlog\u001b[0m\u001b[0;34m(\u001b[0m\u001b[0;36m0.5\u001b[0m\u001b[0;34m)\u001b[0m\u001b[0;34m\u001b[0m\u001b[0m\n",
        "\u001b[0;31mKeyboardInterrupt\u001b[0m: "
       ]
      },
      {
       "ename": "KeyboardInterrupt",
       "evalue": "",
       "output_type": "pyerr",
       "traceback": [
        "Traceback (most recent call last):\n",
        "  File \"/Users/tom/sandbox/ipython/IPython/kernel/zmq/ipkernel.py\", line 416, in execute_request\n    shell.run_cell(code, store_history=store_history, silent=silent)\n",
        "  File \"/Users/tom/sandbox/ipython/IPython/core/interactiveshell.py\", line 2754, in run_cell\n    self.events.trigger('post_execute')\n",
        "  File \"/Users/tom/sandbox/ipython/IPython/core/events.py\", line 82, in trigger\n    func(*args, **kwargs)\n",
        "  File \"/Users/tom/sandbox/ipython/IPython/kernel/zmq/pylab/backend_inline.py\", line 118, in flush_figures\n    return show(True)\n",
        "  File \"/Users/tom/sandbox/ipython/IPython/kernel/zmq/pylab/backend_inline.py\", line 47, in show\n    matplotlib.pyplot.close('all')\n",
        "  File \"/Users/tom/Envs/py3/lib/python3.3/site-packages/matplotlib/pyplot.py\", line 517, in close\n    _pylab_helpers.Gcf.destroy_all()\n",
        "  File \"/Users/tom/Envs/py3/lib/python3.3/site-packages/matplotlib/_pylab_helpers.py\", line 93, in destroy_all\n    gc.collect()\n",
        "KeyboardInterrupt\n"
       ]
      }
     ],
     "prompt_number": 26
    },
    {
     "cell_type": "markdown",
     "metadata": {},
     "source": [
      "Computing the rank order."
     ]
    },
    {
     "cell_type": "code",
     "collapsed": false,
     "input": [
      "testInversePermutation = testScores.argsort()"
     ],
     "language": "python",
     "metadata": {},
     "outputs": [],
     "prompt_number": 28
    },
    {
     "cell_type": "code",
     "collapsed": false,
     "input": [
      "testPermutation = list(testInversePermutation)\n",
      "for tI,tII in zip(range(len(testInversePermutation)),\n",
      "                  testInversePermutation):\n",
      "    testPermutation[tII] = tI"
     ],
     "language": "python",
     "metadata": {},
     "outputs": [],
     "prompt_number": 29
    },
    {
     "cell_type": "markdown",
     "metadata": {},
     "source": [
      "Computing the submission file with columns EventId, RankOrder, and Class."
     ]
    },
    {
     "cell_type": "code",
     "collapsed": false,
     "input": [
      "submission = np.array([[str(testIds[tI]),str(testPermutation[tI]+1),\n",
      "                       's' if testScores[tI] >= threshold else 'b'] \n",
      "            for tI in range(len(testIds))])"
     ],
     "language": "python",
     "metadata": {},
     "outputs": [],
     "prompt_number": 30
    },
    {
     "cell_type": "code",
     "collapsed": false,
     "input": [
      "submission = np.append([['EventId','RankOrder','Class']],\n",
      "                        submission, axis=0)"
     ],
     "language": "python",
     "metadata": {},
     "outputs": [],
     "prompt_number": 31
    },
    {
     "cell_type": "markdown",
     "metadata": {},
     "source": [
      "Saving the file that can be submitted to Kaggle."
     ]
    },
    {
     "cell_type": "code",
     "collapsed": false,
     "input": [
      "np.savetxt(\"submission.csv\",submission,fmt='%s',delimiter=',')"
     ],
     "language": "python",
     "metadata": {},
     "outputs": [],
     "prompt_number": 32
    },
    {
     "cell_type": "code",
     "collapsed": false,
     "input": [],
     "language": "python",
     "metadata": {},
     "outputs": []
    }
   ],
   "metadata": {}
  }
 ]
}